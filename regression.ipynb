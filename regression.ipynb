{
 "cells": [
  {
   "cell_type": "code",
   "execution_count": 4,
   "metadata": {},
   "outputs": [],
   "source": [
    "import statsmodels.api as sm\n",
    "import pandas"
   ]
  },
  {
   "cell_type": "code",
   "execution_count": 19,
   "metadata": {},
   "outputs": [],
   "source": [
    "df = pandas.read_csv('statsModel/data/fastfood.csv')\n",
    "y = df.calories\n",
    "\n",
    "X = df[['total_fat', 'sat_fat', 'cholesterol', 'sodium']]\n",
    "X = sm.add_constant(X)"
   ]
  },
  {
   "cell_type": "code",
   "execution_count": 21,
   "metadata": {},
   "outputs": [
    {
     "data": {
      "text/html": [
       "<table class=\"simpletable\">\n",
       "<caption>OLS Regression Results</caption>\n",
       "<tr>\n",
       "  <th>Dep. Variable:</th>        <td>calories</td>     <th>  R-squared:         </th> <td>   0.896</td> \n",
       "</tr>\n",
       "<tr>\n",
       "  <th>Model:</th>                   <td>OLS</td>       <th>  Adj. R-squared:    </th> <td>   0.895</td> \n",
       "</tr>\n",
       "<tr>\n",
       "  <th>Method:</th>             <td>Least Squares</td>  <th>  F-statistic:       </th> <td>   1095.</td> \n",
       "</tr>\n",
       "<tr>\n",
       "  <th>Date:</th>             <td>Tue, 07 Mar 2023</td> <th>  Prob (F-statistic):</th> <td>1.00e-248</td>\n",
       "</tr>\n",
       "<tr>\n",
       "  <th>Time:</th>                 <td>21:24:16</td>     <th>  Log-Likelihood:    </th> <td> -3054.5</td> \n",
       "</tr>\n",
       "<tr>\n",
       "  <th>No. Observations:</th>      <td>   515</td>      <th>  AIC:               </th> <td>   6119.</td> \n",
       "</tr>\n",
       "<tr>\n",
       "  <th>Df Residuals:</th>          <td>   510</td>      <th>  BIC:               </th> <td>   6140.</td> \n",
       "</tr>\n",
       "<tr>\n",
       "  <th>Df Model:</th>              <td>     4</td>      <th>                     </th>     <td> </td>    \n",
       "</tr>\n",
       "<tr>\n",
       "  <th>Covariance Type:</th>      <td>nonrobust</td>    <th>                     </th>     <td> </td>    \n",
       "</tr>\n",
       "</table>\n",
       "<table class=\"simpletable\">\n",
       "<tr>\n",
       "       <td></td>          <th>coef</th>     <th>std err</th>      <th>t</th>      <th>P>|t|</th>  <th>[0.025</th>    <th>0.975]</th>  \n",
       "</tr>\n",
       "<tr>\n",
       "  <th>const</th>       <td>   71.7332</td> <td>    8.612</td> <td>    8.330</td> <td> 0.000</td> <td>   54.814</td> <td>   88.652</td>\n",
       "</tr>\n",
       "<tr>\n",
       "  <th>total_fat</th>   <td>    9.0985</td> <td>    0.519</td> <td>   17.546</td> <td> 0.000</td> <td>    8.080</td> <td>   10.117</td>\n",
       "</tr>\n",
       "<tr>\n",
       "  <th>sat_fat</th>     <td>    0.6018</td> <td>    1.267</td> <td>    0.475</td> <td> 0.635</td> <td>   -1.888</td> <td>    3.091</td>\n",
       "</tr>\n",
       "<tr>\n",
       "  <th>cholesterol</th> <td>    0.2062</td> <td>    0.113</td> <td>    1.821</td> <td> 0.069</td> <td>   -0.016</td> <td>    0.429</td>\n",
       "</tr>\n",
       "<tr>\n",
       "  <th>sodium</th>      <td>    0.1583</td> <td>    0.008</td> <td>   19.296</td> <td> 0.000</td> <td>    0.142</td> <td>    0.174</td>\n",
       "</tr>\n",
       "</table>\n",
       "<table class=\"simpletable\">\n",
       "<tr>\n",
       "  <th>Omnibus:</th>       <td>263.951</td> <th>  Durbin-Watson:     </th> <td>   1.246</td>\n",
       "</tr>\n",
       "<tr>\n",
       "  <th>Prob(Omnibus):</th> <td> 0.000</td>  <th>  Jarque-Bera (JB):  </th> <td>8704.024</td>\n",
       "</tr>\n",
       "<tr>\n",
       "  <th>Skew:</th>          <td>-1.596</td>  <th>  Prob(JB):          </th> <td>    0.00</td>\n",
       "</tr>\n",
       "<tr>\n",
       "  <th>Kurtosis:</th>      <td>22.886</td>  <th>  Cond. No.          </th> <td>3.05e+03</td>\n",
       "</tr>\n",
       "</table><br/><br/>Notes:<br/>[1] Standard Errors assume that the covariance matrix of the errors is correctly specified.<br/>[2] The condition number is large, 3.05e+03. This might indicate that there are<br/>strong multicollinearity or other numerical problems."
      ],
      "text/plain": [
       "<class 'statsmodels.iolib.summary.Summary'>\n",
       "\"\"\"\n",
       "                            OLS Regression Results                            \n",
       "==============================================================================\n",
       "Dep. Variable:               calories   R-squared:                       0.896\n",
       "Model:                            OLS   Adj. R-squared:                  0.895\n",
       "Method:                 Least Squares   F-statistic:                     1095.\n",
       "Date:                Tue, 07 Mar 2023   Prob (F-statistic):          1.00e-248\n",
       "Time:                        21:24:16   Log-Likelihood:                -3054.5\n",
       "No. Observations:                 515   AIC:                             6119.\n",
       "Df Residuals:                     510   BIC:                             6140.\n",
       "Df Model:                           4                                         \n",
       "Covariance Type:            nonrobust                                         \n",
       "===============================================================================\n",
       "                  coef    std err          t      P>|t|      [0.025      0.975]\n",
       "-------------------------------------------------------------------------------\n",
       "const          71.7332      8.612      8.330      0.000      54.814      88.652\n",
       "total_fat       9.0985      0.519     17.546      0.000       8.080      10.117\n",
       "sat_fat         0.6018      1.267      0.475      0.635      -1.888       3.091\n",
       "cholesterol     0.2062      0.113      1.821      0.069      -0.016       0.429\n",
       "sodium          0.1583      0.008     19.296      0.000       0.142       0.174\n",
       "==============================================================================\n",
       "Omnibus:                      263.951   Durbin-Watson:                   1.246\n",
       "Prob(Omnibus):                  0.000   Jarque-Bera (JB):             8704.024\n",
       "Skew:                          -1.596   Prob(JB):                         0.00\n",
       "Kurtosis:                      22.886   Cond. No.                     3.05e+03\n",
       "==============================================================================\n",
       "\n",
       "Notes:\n",
       "[1] Standard Errors assume that the covariance matrix of the errors is correctly specified.\n",
       "[2] The condition number is large, 3.05e+03. This might indicate that there are\n",
       "strong multicollinearity or other numerical problems.\n",
       "\"\"\""
      ]
     },
     "execution_count": 21,
     "metadata": {},
     "output_type": "execute_result"
    }
   ],
   "source": [
    "model = sm.OLS(y, X).fit()\n",
    "model.summary()\n",
    "\n",
    "pri"
   ]
  },
  {
   "cell_type": "code",
   "execution_count": null,
   "metadata": {},
   "outputs": [],
   "source": []
  }
 ],
 "metadata": {
  "kernelspec": {
   "display_name": "base",
   "language": "python",
   "name": "python3"
  },
  "language_info": {
   "codemirror_mode": {
    "name": "ipython",
    "version": 3
   },
   "file_extension": ".py",
   "mimetype": "text/x-python",
   "name": "python",
   "nbconvert_exporter": "python",
   "pygments_lexer": "ipython3",
   "version": "3.9.13"
  },
  "orig_nbformat": 4
 },
 "nbformat": 4,
 "nbformat_minor": 2
}
